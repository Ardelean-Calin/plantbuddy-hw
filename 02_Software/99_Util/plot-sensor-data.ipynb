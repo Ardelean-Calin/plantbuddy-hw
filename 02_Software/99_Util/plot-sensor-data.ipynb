{
 "metadata": {
  "language_info": {
   "codemirror_mode": {
    "name": "ipython",
    "version": 3
   },
   "file_extension": ".py",
   "mimetype": "text/x-python",
   "name": "python",
   "nbconvert_exporter": "python",
   "pygments_lexer": "ipython3",
   "version": "3.8.8"
  },
  "orig_nbformat": 2,
  "kernelspec": {
   "name": "python388jvsc74a57bd08e2773edcffd0d65a3ff81f81b952a4fa4812cb8b214841810c757cddea79908",
   "display_name": "Python 3.8.8 64-bit ('FlivzNexxy': conda)"
  }
 },
 "nbformat": 4,
 "nbformat_minor": 2,
 "cells": [
  {
   "source": [
    "## Reading sensor data from PlantBuddy."
   ],
   "cell_type": "markdown",
   "metadata": {}
  },
  {
   "source": [
    "### PlantBuddy class"
   ],
   "cell_type": "markdown",
   "metadata": {}
  },
  {
   "source": [
    "import struct\n",
    "import time\n",
    "from collections import namedtuple\n",
    "from typing import Callable\n",
    "from bleak import BleakClient, BleakError, BleakScanner\n",
    "\n",
    "# Create a PlantBuddy class that can be used to connect/disconnect from it and fetch data.\n",
    "class PlantBuddy():\n",
    "    # MAC Address of the PlantBuddy - Debug\n",
    "    # mac_addr = \"F4:94:15:33:BC:8A\"\n",
    "    # MAC Address of the PlantBuddy - Release\n",
    "    mac_addr = \"C9:D0:A2:60:FB:2F\"\n",
    "    # UUID's of service and sensordata characteristic\n",
    "    uuid_service = \"f4c2abcd-6e5f-48a2-b9b2-a4f762791d85\"\n",
    "    uuid_char_sensordata = \"f4c20001-6e5f-48a2-b9b2-a4f762791d85\"\n",
    "    uuid_char_timestamp = \"f4c20002-6e5f-48a2-b9b2-a4f762791d85\"\n",
    "    # Local variables\n",
    "    ble_client = None\n",
    "    callback = None\n",
    "\n",
    "    def __init__(self):\n",
    "        pass\n",
    "\n",
    "    async def connect(self, timeout: float = 60.0):\n",
    "        device = await BleakScanner.find_device_by_address(self.mac_addr, timeout=timeout)\n",
    "        if not device:\n",
    "            raise BleakError(f\"A device with address {self.ble_address} could not be found.\")\n",
    "        # Save the client locally\n",
    "        self.ble_client = BleakClient(device)\n",
    "        await self.ble_client.connect(timeout=timeout)\n",
    "        await self._update_timestamp()\n",
    "\n",
    "    async def disconnect(self):\n",
    "         await self.ble_client.disconnect()\n",
    "\n",
    "    def install_callback(self, callback: Callable[[bytearray], None]):\n",
    "        self.callback = callback\n",
    "\n",
    "    async def start_listening(self):\n",
    "        if self.callback is None:\n",
    "            raise BleakError(f\"No callback was specified!\")\n",
    "        await self.ble_client.start_notify(self.uuid_char_sensordata, self._notification_handler)\n",
    "\n",
    "    async def stop_listening(self):\n",
    "        await self.ble_client.stop_notify(self.uuid_char_sensordata)\n",
    "\n",
    "    async def _update_timestamp(self):\n",
    "        epoch_time = int(time.time())\n",
    "        await self.ble_client.write_gatt_char(self.uuid_char_timestamp, epoch_time.to_bytes(4, 'little'))\n",
    "\n",
    "    def _notification_handler(self, sender, data):\n",
    "        Packet = namedtuple('Packet', 'timestamp soil_humidity luminous_flux air_humidity air_temperature battery_voltage')\n",
    "        raw_packet = Packet._make(struct.unpack(\"<IIIHHHxx\", data))\n",
    "        phys_packet = raw_packet._replace(air_temperature=raw_packet.air_temperature/100, air_humidity=raw_packet.air_humidity/100)\n",
    "\n",
    "        self.callback(phys_packet)\n"
   ],
   "cell_type": "code",
   "metadata": {},
   "execution_count": 1,
   "outputs": []
  },
  {
   "cell_type": "code",
   "execution_count": 5,
   "metadata": {},
   "outputs": [
    {
     "output_type": "stream",
     "name": "stdout",
     "text": [
      "Received: Packet(timestamp=1619523157, soil_humidity=335781, luminous_flux=76, air_humidity=48.1, air_temperature=23.65, battery_voltage=3121)\n",
      "Received: Packet(timestamp=1619523158, soil_humidity=339024, luminous_flux=82, air_humidity=48.45, air_temperature=23.68, battery_voltage=3118)\n",
      "Received: Packet(timestamp=1619523159, soil_humidity=335610, luminous_flux=84, air_humidity=48.79, air_temperature=23.66, battery_voltage=3111)\n",
      "Received: Packet(timestamp=1619523160, soil_humidity=335590, luminous_flux=82, air_humidity=48.92, air_temperature=23.65, battery_voltage=3114)\n",
      "Received: Packet(timestamp=1619523161, soil_humidity=335530, luminous_flux=83, air_humidity=48.66, air_temperature=23.66, battery_voltage=3118)\n",
      "Received: Packet(timestamp=1619523162, soil_humidity=335530, luminous_flux=83, air_humidity=48.04, air_temperature=23.64, battery_voltage=3121)\n",
      "Received: Packet(timestamp=1619523163, soil_humidity=335420, luminous_flux=83, air_humidity=47.38, air_temperature=23.62, battery_voltage=3114)\n",
      "Received: Packet(timestamp=1619523164, soil_humidity=335339, luminous_flux=84, air_humidity=47.24, air_temperature=23.68, battery_voltage=3118)\n",
      "Received: Packet(timestamp=1619523165, soil_humidity=335339, luminous_flux=84, air_humidity=47.79, air_temperature=23.65, battery_voltage=3118)\n",
      "Received: Packet(timestamp=1619523166, soil_humidity=335400, luminous_flux=85, air_humidity=48.97, air_temperature=23.65, battery_voltage=3118)\n"
     ]
    }
   ],
   "source": [
    "import asyncio\n",
    "\n",
    "def new_data(sensor_data):\n",
    "    # Data needs to be a dictionary containing all my items\n",
    "    print(f\"Received: {sensor_data}\")\n",
    "\n",
    "pb = PlantBuddy()\n",
    "await pb.connect()  \n",
    "pb.install_callback(new_data)\n",
    "await pb.start_listening()\n",
    "await asyncio.sleep(10.0)\n",
    "await pb.stop_listening()\n"
   ]
  },
  {
   "cell_type": "code",
   "execution_count": null,
   "metadata": {},
   "outputs": [],
   "source": []
  }
 ]
}