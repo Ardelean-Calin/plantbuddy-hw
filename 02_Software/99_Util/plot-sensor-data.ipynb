{
 "metadata": {
  "language_info": {
   "codemirror_mode": {
    "name": "ipython",
    "version": 3
   },
   "file_extension": ".py",
   "mimetype": "text/x-python",
   "name": "python",
   "nbconvert_exporter": "python",
   "pygments_lexer": "ipython3",
   "version": "3.8.8"
  },
  "orig_nbformat": 2,
  "kernelspec": {
   "name": "python388jvsc74a57bd08e2773edcffd0d65a3ff81f81b952a4fa4812cb8b214841810c757cddea79908",
   "display_name": "Python 3.8.8 64-bit ('FlivzNexxy': conda)"
  }
 },
 "nbformat": 4,
 "nbformat_minor": 2,
 "cells": [
  {
   "source": [
    "## Reading sensor data from PlantBuddy."
   ],
   "cell_type": "markdown",
   "metadata": {}
  },
  {
   "source": [
    "### PlantBuddy class"
   ],
   "cell_type": "markdown",
   "metadata": {}
  },
  {
   "source": [
    "import struct\n",
    "import time\n",
    "from collections import namedtuple\n",
    "from typing import Callable\n",
    "from bleak import BleakClient, BleakError, BleakScanner\n",
    "\n",
    "# Create a PlantBuddy class that can be used to connect/disconnect from it and fetch data.\n",
    "class PlantBuddy():\n",
    "    # MAC Address of the PlantBuddy\n",
    "    mac_addr = \"F4:94:15:33:BC:8A\"\n",
    "    # UUID's of service and sensordata characteristic\n",
    "    uuid_service = \"f4c2abcd-6e5f-48a2-b9b2-a4f762791d85\"\n",
    "    uuid_char_sensordata = \"f4c20001-6e5f-48a2-b9b2-a4f762791d85\"\n",
    "    uuid_char_timestamp = \"f4c20002-6e5f-48a2-b9b2-a4f762791d85\"\n",
    "    # Local variables\n",
    "    ble_client = None\n",
    "    callback = None\n",
    "\n",
    "    def __init__(self):\n",
    "        pass\n",
    "\n",
    "    async def connect(self, timeout: float = 60.0):\n",
    "        device = await BleakScanner.find_device_by_address(self.mac_addr, timeout=timeout)\n",
    "        if not device:\n",
    "            raise BleakError(f\"A device with address {self.ble_address} could not be found.\")\n",
    "        # Save the client locally\n",
    "        self.ble_client = BleakClient(device)\n",
    "        await self.ble_client.connect(timeout=timeout)\n",
    "        await self._update_timestamp()\n",
    "\n",
    "    async def disconnect(self):\n",
    "         await self.ble_client.disconnect()\n",
    "\n",
    "    def install_callback(self, callback: Callable[[bytearray], None]):\n",
    "        self.callback = callback\n",
    "\n",
    "    async def start_listening(self):\n",
    "        if self.callback is None:\n",
    "            raise BleakError(f\"No callback was specified!\")\n",
    "        await self.ble_client.start_notify(self.uuid_char_sensordata, self._notification_handler)\n",
    "\n",
    "    async def stop_listening(self):\n",
    "        await self.ble_client.stop_notify(self.uuid_char_sensordata)\n",
    "\n",
    "    async def _update_timestamp(self):\n",
    "        epoch_time = int(time.time())\n",
    "        await self.ble_client.write_gatt_char(self.uuid_char_timestamp, epoch_time.to_bytes(4, 'little'))\n",
    "\n",
    "    def _notification_handler(self, sender, data):\n",
    "        Packet = namedtuple('Packet', 'timestamp soil_humidity luminous_flux air_humidity air_temperature')\n",
    "        raw_packet = Packet._make(struct.unpack(\"<IIIHH\", data))\n",
    "        phys_packet = raw_packet._replace(air_temperature=raw_packet.air_temperature/100, air_humidity=raw_packet.air_humidity/100)\n",
    "\n",
    "        self.callback(phys_packet)\n"
   ],
   "cell_type": "code",
   "metadata": {},
   "execution_count": 5,
   "outputs": []
  },
  {
   "cell_type": "code",
   "execution_count": 7,
   "metadata": {},
   "outputs": [
    {
     "output_type": "stream",
     "name": "stdout",
     "text": [
      "Received: Packet(timestamp=1619509739, soil_humidity=907514, luminous_flux=11, air_humidity=37.92, air_temperature=24.05)\n",
      "Received: Packet(timestamp=1619509740, soil_humidity=907504, luminous_flux=11, air_humidity=37.9, air_temperature=24.09)\n",
      "Received: Packet(timestamp=1619509741, soil_humidity=907504, luminous_flux=11, air_humidity=37.9, air_temperature=24.07)\n",
      "Received: Packet(timestamp=1619509742, soil_humidity=907474, luminous_flux=11, air_humidity=37.9, air_temperature=24.09)\n",
      "Received: Packet(timestamp=1619509743, soil_humidity=907494, luminous_flux=11, air_humidity=37.92, air_temperature=24.07)\n",
      "Received: Packet(timestamp=1619509744, soil_humidity=907494, luminous_flux=11, air_humidity=37.93, air_temperature=24.1)\n",
      "Received: Packet(timestamp=1619509745, soil_humidity=907494, luminous_flux=11, air_humidity=37.96, air_temperature=24.04)\n",
      "Received: Packet(timestamp=1619509746, soil_humidity=907484, luminous_flux=11, air_humidity=37.96, air_temperature=24.06)\n",
      "Received: Packet(timestamp=1619509747, soil_humidity=907474, luminous_flux=11, air_humidity=37.98, air_temperature=24.07)\n",
      "Received: Packet(timestamp=1619509748, soil_humidity=907464, luminous_flux=11, air_humidity=37.96, air_temperature=24.08)\n",
      "Received: Packet(timestamp=1619509749, soil_humidity=907494, luminous_flux=11, air_humidity=37.99, air_temperature=24.08)\n",
      "Received: Packet(timestamp=1619509750, soil_humidity=907484, luminous_flux=11, air_humidity=38.01, air_temperature=24.06)\n",
      "Received: Packet(timestamp=1619509751, soil_humidity=907484, luminous_flux=11, air_humidity=38.02, air_temperature=24.05)\n",
      "Received: Packet(timestamp=1619509752, soil_humidity=907484, luminous_flux=12, air_humidity=38.02, air_temperature=24.06)\n",
      "Received: Packet(timestamp=1619509778, soil_humidity=907545, luminous_flux=12, air_humidity=37.93, air_temperature=24.06)\n",
      "Received: Packet(timestamp=1619509779, soil_humidity=907545, luminous_flux=12, air_humidity=37.93, air_temperature=24.05)\n",
      "Received: Packet(timestamp=1619509780, soil_humidity=907545, luminous_flux=12, air_humidity=37.91, air_temperature=24.04)\n",
      "Received: Packet(timestamp=1619509781, soil_humidity=907565, luminous_flux=12, air_humidity=37.87, air_temperature=24.03)\n",
      "Received: Packet(timestamp=1619509782, soil_humidity=907565, luminous_flux=12, air_humidity=37.92, air_temperature=24.08)\n",
      "Received: Packet(timestamp=1619509783, soil_humidity=907565, luminous_flux=12, air_humidity=37.9, air_temperature=24.06)\n",
      "Received: Packet(timestamp=1619509784, soil_humidity=907575, luminous_flux=12, air_humidity=37.89, air_temperature=24.03)\n",
      "Received: Packet(timestamp=1619509785, soil_humidity=907545, luminous_flux=10, air_humidity=37.9, air_temperature=24.08)\n",
      "Received: Packet(timestamp=1619509786, soil_humidity=907575, luminous_flux=10, air_humidity=37.92, air_temperature=24.04)\n",
      "Received: Packet(timestamp=1619509787, soil_humidity=907555, luminous_flux=10, air_humidity=37.9, air_temperature=24.04)\n",
      "Received: Packet(timestamp=1619509788, soil_humidity=907555, luminous_flux=10, air_humidity=37.92, air_temperature=24.08)\n",
      "Received: Packet(timestamp=1619509789, soil_humidity=907545, luminous_flux=10, air_humidity=37.92, air_temperature=24.06)\n",
      "Received: Packet(timestamp=1619509790, soil_humidity=907555, luminous_flux=10, air_humidity=37.89, air_temperature=24.01)\n",
      "Received: Packet(timestamp=1619509791, soil_humidity=907514, luminous_flux=10, air_humidity=37.89, air_temperature=24.04)\n",
      "Received: Packet(timestamp=1619509792, soil_humidity=907545, luminous_flux=10, air_humidity=37.92, air_temperature=24.03)\n",
      "Received: Packet(timestamp=1619509793, soil_humidity=907545, luminous_flux=10, air_humidity=37.92, air_temperature=24.04)\n",
      "Received: Packet(timestamp=1619509794, soil_humidity=907545, luminous_flux=10, air_humidity=37.95, air_temperature=24.04)\n",
      "Received: Packet(timestamp=1619509795, soil_humidity=907535, luminous_flux=10, air_humidity=38.0, air_temperature=24.05)\n",
      "Received: Packet(timestamp=1619509796, soil_humidity=907525, luminous_flux=10, air_humidity=38.06, air_temperature=24.06)\n",
      "Received: Packet(timestamp=1619509797, soil_humidity=907504, luminous_flux=10, air_humidity=38.07, air_temperature=24.05)\n",
      "Received: Packet(timestamp=1619509798, soil_humidity=907525, luminous_flux=9, air_humidity=38.08, air_temperature=24.03)\n",
      "Received: Packet(timestamp=1619509799, soil_humidity=907525, luminous_flux=9, air_humidity=38.1, air_temperature=24.02)\n",
      "Received: Packet(timestamp=1619509800, soil_humidity=907514, luminous_flux=9, air_humidity=38.08, air_temperature=24.05)\n",
      "Received: Packet(timestamp=1619509801, soil_humidity=907514, luminous_flux=9, air_humidity=38.07, air_temperature=24.06)\n",
      "Received: Packet(timestamp=1619509802, soil_humidity=907514, luminous_flux=10, air_humidity=38.09, air_temperature=24.04)\n",
      "Received: Packet(timestamp=1619509803, soil_humidity=907484, luminous_flux=10, air_humidity=38.07, air_temperature=24.05)\n",
      "Received: Packet(timestamp=1619509804, soil_humidity=907514, luminous_flux=9, air_humidity=38.06, air_temperature=24.04)\n"
     ]
    }
   ],
   "source": [
    "import asyncio\n",
    "\n",
    "def new_data(sensor_data):\n",
    "    # Data needs to be a dictionary containing all my items\n",
    "    print(f\"Received: {sensor_data}\")\n",
    "\n",
    "pb = PlantBuddy()\n",
    "await pb.connect()\n",
    "pb.install_callback(new_data)\n",
    "await pb.start_listening()\n",
    "await asyncio.sleep(10.0)\n"
   ]
  },
  {
   "source": [
    "import time\n",
    "x = int(time.time())\n",
    "x.to_bytes(4, 'little')"
   ],
   "cell_type": "code",
   "metadata": {},
   "execution_count": 1,
   "outputs": [
    {
     "output_type": "execute_result",
     "data": {
      "text/plain": [
       "b'm\\xc1\\x87`'"
      ]
     },
     "metadata": {},
     "execution_count": 1
    }
   ]
  },
  {
   "cell_type": "code",
   "execution_count": null,
   "metadata": {},
   "outputs": [],
   "source": []
  }
 ]
}