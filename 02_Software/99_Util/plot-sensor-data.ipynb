{
 "metadata": {
  "language_info": {
   "codemirror_mode": {
    "name": "ipython",
    "version": 3
   },
   "file_extension": ".py",
   "mimetype": "text/x-python",
   "name": "python",
   "nbconvert_exporter": "python",
   "pygments_lexer": "ipython3",
   "version": "3.8.8"
  },
  "orig_nbformat": 2,
  "kernelspec": {
   "name": "python388jvsc74a57bd08e2773edcffd0d65a3ff81f81b952a4fa4812cb8b214841810c757cddea79908",
   "display_name": "Python 3.8.8 64-bit ('FlivzNexxy': conda)"
  }
 },
 "nbformat": 4,
 "nbformat_minor": 2,
 "cells": [
  {
   "source": [
    "## Reading sensor data from PlantBuddy."
   ],
   "cell_type": "markdown",
   "metadata": {}
  },
  {
   "cell_type": "code",
   "execution_count": 1,
   "metadata": {},
   "outputs": [],
   "source": []
  },
  {
   "source": [
    "### The necessary imports"
   ],
   "cell_type": "markdown",
   "metadata": {}
  },
  {
   "cell_type": "code",
   "execution_count": 12,
   "metadata": {},
   "outputs": [],
   "source": [
    "import asyncio\n",
    "from bleak import BleakClient, BleakError, BleakScanner"
   ]
  },
  {
   "source": [
    "### Connect to the PlantBuddy"
   ],
   "cell_type": "markdown",
   "metadata": {}
  },
  {
   "source": [
    "import struct\n",
    "from collections import namedtuple\n",
    "from typing import Callable\n",
    "\n",
    "# Create a PlantBuddy class that can be used to connect/disconnect from it and fetch data.\n",
    "class PlantBuddy():\n",
    "    # MAC Address of the PlantBuddy\n",
    "    mac_addr = \"F4:94:15:33:BC:8A\"\n",
    "    # UUID's of service and sensordata characteristic\n",
    "    uuid_service = \"f4c2abcd-6e5f-48a2-b9b2-a4f762791d85\"\n",
    "    uuid_char_sensordata = \"f4c20001-6e5f-48a2-b9b2-a4f762791d85\"\n",
    "    # Local variables\n",
    "    ble_client = None\n",
    "    callback = None\n",
    "\n",
    "    def __init__(self):\n",
    "        pass\n",
    "\n",
    "    async def connect(self, timeout: float = 60.0):\n",
    "        device = await BleakScanner.find_device_by_address(self.mac_addr, timeout=timeout)\n",
    "        if not device:\n",
    "            raise BleakError(f\"A device with address {self.ble_address} could not be found.\")\n",
    "        # Save the client locally\n",
    "        self.ble_client = BleakClient(device)\n",
    "        await self.ble_client.connect(timeout=timeout)\n",
    "\n",
    "    async def disconnect(self):\n",
    "         await self.ble_client.disconnect()\n",
    "\n",
    "    def install_callback(self, callback: Callable[[bytearray], None]):\n",
    "        self.callback = callback\n",
    "\n",
    "    async def start_listening(self):\n",
    "        if self.callback is None:\n",
    "            raise BleakError(f\"No callback was specified!\")\n",
    "        await self.ble_client.start_notify(self.uuid_char_sensordata, self._notification_handler)\n",
    "\n",
    "    async def stop_listening(self):\n",
    "        await self.ble_client.stop_notify(self.uuid_char_sensordata)\n",
    "\n",
    "    def _notification_handler(self, sender, data):\n",
    "        Packet = namedtuple('Packet', 'timestamp soil_humidity luminous_flux air_humidity air_temperature')\n",
    "        raw_packet = Packet._make(struct.unpack(\"<IIIHH\", data))\n",
    "        phys_packet = raw_packet._replace(air_temperature=raw_packet.air_temperature/100, air_humidity=raw_packet.air_humidity/100)\n",
    "\n",
    "        self.callback(phys_packet)\n"
   ],
   "cell_type": "code",
   "metadata": {},
   "execution_count": 93,
   "outputs": []
  },
  {
   "cell_type": "code",
   "execution_count": 94,
   "metadata": {},
   "outputs": [
    {
     "output_type": "stream",
     "name": "stdout",
     "text": [
      "Received: Packet(timestamp=31, soil_humidity=908679, luminous_flux=16, air_humidity=38.41, air_temperature=23.8)\n",
      "Received: Packet(timestamp=32, soil_humidity=908669, luminous_flux=16, air_humidity=38.41, air_temperature=23.84)\n",
      "Received: Packet(timestamp=33, soil_humidity=908679, luminous_flux=16, air_humidity=38.37, air_temperature=23.83)\n",
      "Received: Packet(timestamp=34, soil_humidity=908699, luminous_flux=16, air_humidity=38.31, air_temperature=23.83)\n",
      "Received: Packet(timestamp=35, soil_humidity=908709, luminous_flux=16, air_humidity=38.29, air_temperature=23.84)\n",
      "Received: Packet(timestamp=36, soil_humidity=908699, luminous_flux=16, air_humidity=38.19, air_temperature=23.81)\n",
      "Received: Packet(timestamp=37, soil_humidity=908709, luminous_flux=16, air_humidity=38.13, air_temperature=23.84)\n",
      "Received: Packet(timestamp=38, soil_humidity=908699, luminous_flux=16, air_humidity=38.06, air_temperature=23.87)\n",
      "Received: Packet(timestamp=39, soil_humidity=908709, luminous_flux=15, air_humidity=38.03, air_temperature=23.85)\n",
      "Received: Packet(timestamp=40, soil_humidity=908699, luminous_flux=15, air_humidity=37.97, air_temperature=23.85)\n",
      "Received: Packet(timestamp=41, soil_humidity=908709, luminous_flux=15, air_humidity=37.92, air_temperature=23.83)\n",
      "Received: Packet(timestamp=42, soil_humidity=908689, luminous_flux=15, air_humidity=37.88, air_temperature=23.85)\n",
      "Received: Packet(timestamp=43, soil_humidity=908699, luminous_flux=16, air_humidity=37.92, air_temperature=23.82)\n",
      "Received: Packet(timestamp=44, soil_humidity=908689, luminous_flux=16, air_humidity=38.0, air_temperature=23.85)\n",
      "Received: Packet(timestamp=45, soil_humidity=908689, luminous_flux=16, air_humidity=38.08, air_temperature=23.86)\n",
      "Received: Packet(timestamp=46, soil_humidity=908679, luminous_flux=16, air_humidity=38.14, air_temperature=23.87)\n",
      "Received: Packet(timestamp=47, soil_humidity=908709, luminous_flux=16, air_humidity=38.17, air_temperature=23.83)\n",
      "Received: Packet(timestamp=48, soil_humidity=908709, luminous_flux=15, air_humidity=38.19, air_temperature=23.85)\n",
      "Received: Packet(timestamp=49, soil_humidity=908719, luminous_flux=15, air_humidity=38.17, air_temperature=23.87)\n",
      "Received: Packet(timestamp=50, soil_humidity=908719, luminous_flux=15, air_humidity=38.09, air_temperature=23.87)\n",
      "Received: Packet(timestamp=51, soil_humidity=908719, luminous_flux=14, air_humidity=38.04, air_temperature=23.89)\n"
     ]
    }
   ],
   "source": [
    "def new_data(sensor_data):\n",
    "    # Data needs to be a dictionary containing all my items\n",
    "    print(f\"Received: {sensor_data}\")\n",
    "\n",
    "pb = PlantBuddy()\n",
    "await pb.connect()\n",
    "pb.install_callback(new_data)\n",
    "await pb.start_listening()\n",
    "await asyncio.sleep(10.0)\n"
   ]
  },
  {
   "cell_type": "code",
   "execution_count": 61,
   "metadata": {},
   "outputs": [
    {
     "output_type": "stream",
     "name": "stdout",
     "text": [
      "12, bytearray(b'\\x14\\xde\\r\\x00\\x10\\x00\\x00\\x00\\x89\\x0eJ\\t')\n",
      "12, bytearray(b'\\xd7\\xdd\\r\\x00\\x10\\x00\\x00\\x00\\x8e\\x0eG\\t')\n",
      "12, bytearray(b'\\x14\\xde\\r\\x00\\x10\\x00\\x00\\x00\\x94\\x0eI\\t')\n"
     ]
    }
   ],
   "source": []
  },
  {
   "cell_type": "code",
   "execution_count": 86,
   "metadata": {},
   "outputs": [
    {
     "output_type": "stream",
     "name": "stdout",
     "text": [
      "Received: Packet(soil_humidity=908789, luminous_flux=16, air_humidity=37.18, air_temperature=23.75)\n"
     ]
    }
   ],
   "source": [
    "from collections import namedtuple\n",
    "Packet = namedtuple('Packet', 'soil_humidity luminous_flux air_humidity air_temperature')\n",
    "\n",
    "x = bytearray(b'\\xf5\\xdd\\r\\x00\\x10\\x00\\x00\\x00\\x86\\x0eG\\t')\n",
    "packet = Packet._make(struct.unpack(\"<IIHH\", x))\n",
    "packet = packet._replace(air_temperature=packet.air_temperature/100, air_humidity=packet.air_humidity/100)\n",
    "print(f\"Received: {packet}\")"
   ]
  },
  {
   "cell_type": "code",
   "execution_count": null,
   "metadata": {},
   "outputs": [],
   "source": []
  }
 ]
}