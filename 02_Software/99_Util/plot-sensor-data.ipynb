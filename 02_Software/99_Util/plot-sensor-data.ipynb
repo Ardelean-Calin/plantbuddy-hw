{
 "metadata": {
  "language_info": {
   "codemirror_mode": {
    "name": "ipython",
    "version": 3
   },
   "file_extension": ".py",
   "mimetype": "text/x-python",
   "name": "python",
   "nbconvert_exporter": "python",
   "pygments_lexer": "ipython3",
   "version": "3.8.8"
  },
  "orig_nbformat": 2,
  "kernelspec": {
   "name": "python388jvsc74a57bd08e2773edcffd0d65a3ff81f81b952a4fa4812cb8b214841810c757cddea79908",
   "display_name": "Python 3.8.8 64-bit ('FlivzNexxy': conda)"
  }
 },
 "nbformat": 4,
 "nbformat_minor": 2,
 "cells": [
  {
   "source": [
    "## Reading sensor data from PlantBuddy."
   ],
   "cell_type": "markdown",
   "metadata": {}
  },
  {
   "source": [
    "### PlantBuddy class"
   ],
   "cell_type": "markdown",
   "metadata": {}
  },
  {
   "source": [
    "import struct\n",
    "import time\n",
    "from collections import namedtuple\n",
    "from typing import Callable\n",
    "from bleak import BleakClient, BleakError, BleakScanner\n",
    "\n",
    "# Create a PlantBuddy class that can be used to connect/disconnect from it and fetch data.\n",
    "class PlantBuddy():\n",
    "    # MAC Address of the PlantBuddy\n",
    "    mac_addr = \"F4:94:15:33:BC:8A\"\n",
    "    # UUID's of service and sensordata characteristic\n",
    "    uuid_service = \"f4c2abcd-6e5f-48a2-b9b2-a4f762791d85\"\n",
    "    uuid_char_sensordata = \"f4c20001-6e5f-48a2-b9b2-a4f762791d85\"\n",
    "    uuid_char_timestamp = \"f4c20002-6e5f-48a2-b9b2-a4f762791d85\"\n",
    "    # Local variables\n",
    "    ble_client = None\n",
    "    callback = None\n",
    "\n",
    "    def __init__(self):\n",
    "        pass\n",
    "\n",
    "    async def connect(self, timeout: float = 60.0):\n",
    "        device = await BleakScanner.find_device_by_address(self.mac_addr, timeout=timeout)\n",
    "        if not device:\n",
    "            raise BleakError(f\"A device with address {self.ble_address} could not be found.\")\n",
    "        # Save the client locally\n",
    "        self.ble_client = BleakClient(device)\n",
    "        await self.ble_client.connect(timeout=timeout)\n",
    "        await self._update_timestamp()\n",
    "\n",
    "    async def disconnect(self):\n",
    "         await self.ble_client.disconnect()\n",
    "\n",
    "    def install_callback(self, callback: Callable[[bytearray], None]):\n",
    "        self.callback = callback\n",
    "\n",
    "    async def start_listening(self):\n",
    "        if self.callback is None:\n",
    "            raise BleakError(f\"No callback was specified!\")\n",
    "        await self.ble_client.start_notify(self.uuid_char_sensordata, self._notification_handler)\n",
    "\n",
    "    async def stop_listening(self):\n",
    "        await self.ble_client.stop_notify(self.uuid_char_sensordata)\n",
    "\n",
    "    async def _update_timestamp(self):\n",
    "        epoch_time = int(time.time())\n",
    "        await self.ble_client.write_gatt_char(self.uuid_char_timestamp, epoch_time.to_bytes(4, 'little'))\n",
    "\n",
    "    def _notification_handler(self, sender, data):\n",
    "        Packet = namedtuple('Packet', 'timestamp soil_humidity luminous_flux air_humidity air_temperature')\n",
    "        raw_packet = Packet._make(struct.unpack(\"<IIIHH\", data))\n",
    "        phys_packet = raw_packet._replace(air_temperature=raw_packet.air_temperature/100, air_humidity=raw_packet.air_humidity/100)\n",
    "\n",
    "        self.callback(phys_packet)\n"
   ],
   "cell_type": "code",
   "metadata": {},
   "execution_count": 5,
   "outputs": []
  },
  {
   "cell_type": "code",
   "execution_count": 9,
   "metadata": {},
   "outputs": [
    {
     "output_type": "error",
     "ename": "TimeoutError",
     "evalue": "",
     "traceback": [
      "\u001b[1;31m---------------------------------------------------------------------------\u001b[0m",
      "\u001b[1;31mTimeoutError\u001b[0m                              Traceback (most recent call last)",
      "\u001b[1;32m<ipython-input-9-3a027c36cecf>\u001b[0m in \u001b[0;36m<module>\u001b[1;34m\u001b[0m\n\u001b[0;32m      6\u001b[0m \u001b[1;33m\u001b[0m\u001b[0m\n\u001b[0;32m      7\u001b[0m \u001b[0mpb\u001b[0m \u001b[1;33m=\u001b[0m \u001b[0mPlantBuddy\u001b[0m\u001b[1;33m(\u001b[0m\u001b[1;33m)\u001b[0m\u001b[1;33m\u001b[0m\u001b[1;33m\u001b[0m\u001b[0m\n\u001b[1;32m----> 8\u001b[1;33m \u001b[1;32mawait\u001b[0m \u001b[0mpb\u001b[0m\u001b[1;33m.\u001b[0m\u001b[0mconnect\u001b[0m\u001b[1;33m(\u001b[0m\u001b[1;33m)\u001b[0m\u001b[1;33m\u001b[0m\u001b[1;33m\u001b[0m\u001b[0m\n\u001b[0m\u001b[0;32m      9\u001b[0m \u001b[0mpb\u001b[0m\u001b[1;33m.\u001b[0m\u001b[0minstall_callback\u001b[0m\u001b[1;33m(\u001b[0m\u001b[0mnew_data\u001b[0m\u001b[1;33m)\u001b[0m\u001b[1;33m\u001b[0m\u001b[1;33m\u001b[0m\u001b[0m\n\u001b[0;32m     10\u001b[0m \u001b[1;32mawait\u001b[0m \u001b[0mpb\u001b[0m\u001b[1;33m.\u001b[0m\u001b[0mstart_listening\u001b[0m\u001b[1;33m(\u001b[0m\u001b[1;33m)\u001b[0m\u001b[1;33m\u001b[0m\u001b[1;33m\u001b[0m\u001b[0m\n",
      "\u001b[1;32m<ipython-input-5-85d074dbf8a1>\u001b[0m in \u001b[0;36mconnect\u001b[1;34m(self, timeout)\u001b[0m\n\u001b[0;32m     26\u001b[0m         \u001b[1;31m# Save the client locally\u001b[0m\u001b[1;33m\u001b[0m\u001b[1;33m\u001b[0m\u001b[1;33m\u001b[0m\u001b[0m\n\u001b[0;32m     27\u001b[0m         \u001b[0mself\u001b[0m\u001b[1;33m.\u001b[0m\u001b[0mble_client\u001b[0m \u001b[1;33m=\u001b[0m \u001b[0mBleakClient\u001b[0m\u001b[1;33m(\u001b[0m\u001b[0mdevice\u001b[0m\u001b[1;33m)\u001b[0m\u001b[1;33m\u001b[0m\u001b[1;33m\u001b[0m\u001b[0m\n\u001b[1;32m---> 28\u001b[1;33m         \u001b[1;32mawait\u001b[0m \u001b[0mself\u001b[0m\u001b[1;33m.\u001b[0m\u001b[0mble_client\u001b[0m\u001b[1;33m.\u001b[0m\u001b[0mconnect\u001b[0m\u001b[1;33m(\u001b[0m\u001b[0mtimeout\u001b[0m\u001b[1;33m=\u001b[0m\u001b[0mtimeout\u001b[0m\u001b[1;33m)\u001b[0m\u001b[1;33m\u001b[0m\u001b[1;33m\u001b[0m\u001b[0m\n\u001b[0m\u001b[0;32m     29\u001b[0m         \u001b[1;32mawait\u001b[0m \u001b[0mself\u001b[0m\u001b[1;33m.\u001b[0m\u001b[0m_update_timestamp\u001b[0m\u001b[1;33m(\u001b[0m\u001b[1;33m)\u001b[0m\u001b[1;33m\u001b[0m\u001b[1;33m\u001b[0m\u001b[0m\n\u001b[0;32m     30\u001b[0m \u001b[1;33m\u001b[0m\u001b[0m\n",
      "\u001b[1;32m~\\anaconda3\\envs\\FlivzNexxy\\lib\\site-packages\\bleak\\backends\\dotnet\\client.py\u001b[0m in \u001b[0;36mconnect\u001b[1;34m(self, **kwargs)\u001b[0m\n\u001b[0;32m    241\u001b[0m             \u001b[1;31m# until we set MaintainConnection = False.\u001b[0m\u001b[1;33m\u001b[0m\u001b[1;33m\u001b[0m\u001b[1;33m\u001b[0m\u001b[0m\n\u001b[0;32m    242\u001b[0m             \u001b[0mself\u001b[0m\u001b[1;33m.\u001b[0m\u001b[0m_session\u001b[0m\u001b[1;33m.\u001b[0m\u001b[0mMaintainConnection\u001b[0m \u001b[1;33m=\u001b[0m \u001b[1;32mTrue\u001b[0m\u001b[1;33m\u001b[0m\u001b[1;33m\u001b[0m\u001b[0m\n\u001b[1;32m--> 243\u001b[1;33m             \u001b[1;32mawait\u001b[0m \u001b[0masyncio\u001b[0m\u001b[1;33m.\u001b[0m\u001b[0mwait_for\u001b[0m\u001b[1;33m(\u001b[0m\u001b[0mevent\u001b[0m\u001b[1;33m.\u001b[0m\u001b[0mwait\u001b[0m\u001b[1;33m(\u001b[0m\u001b[1;33m)\u001b[0m\u001b[1;33m,\u001b[0m \u001b[0mtimeout\u001b[0m\u001b[1;33m=\u001b[0m\u001b[0mtimeout\u001b[0m\u001b[1;33m)\u001b[0m\u001b[1;33m\u001b[0m\u001b[1;33m\u001b[0m\u001b[0m\n\u001b[0m\u001b[0;32m    244\u001b[0m         \u001b[1;32mexcept\u001b[0m \u001b[0mBaseException\u001b[0m\u001b[1;33m:\u001b[0m\u001b[1;33m\u001b[0m\u001b[1;33m\u001b[0m\u001b[0m\n\u001b[0;32m    245\u001b[0m             \u001b[0mhandle_disconnect\u001b[0m\u001b[1;33m(\u001b[0m\u001b[1;33m)\u001b[0m\u001b[1;33m\u001b[0m\u001b[1;33m\u001b[0m\u001b[0m\n",
      "\u001b[1;32m~\\anaconda3\\envs\\FlivzNexxy\\lib\\asyncio\\tasks.py\u001b[0m in \u001b[0;36mwait_for\u001b[1;34m(fut, timeout, loop)\u001b[0m\n\u001b[0;32m    499\u001b[0m             \u001b[1;31m# See https://bugs.python.org/issue32751\u001b[0m\u001b[1;33m\u001b[0m\u001b[1;33m\u001b[0m\u001b[1;33m\u001b[0m\u001b[0m\n\u001b[0;32m    500\u001b[0m             \u001b[1;32mawait\u001b[0m \u001b[0m_cancel_and_wait\u001b[0m\u001b[1;33m(\u001b[0m\u001b[0mfut\u001b[0m\u001b[1;33m,\u001b[0m \u001b[0mloop\u001b[0m\u001b[1;33m=\u001b[0m\u001b[0mloop\u001b[0m\u001b[1;33m)\u001b[0m\u001b[1;33m\u001b[0m\u001b[1;33m\u001b[0m\u001b[0m\n\u001b[1;32m--> 501\u001b[1;33m             \u001b[1;32mraise\u001b[0m \u001b[0mexceptions\u001b[0m\u001b[1;33m.\u001b[0m\u001b[0mTimeoutError\u001b[0m\u001b[1;33m(\u001b[0m\u001b[1;33m)\u001b[0m\u001b[1;33m\u001b[0m\u001b[1;33m\u001b[0m\u001b[0m\n\u001b[0m\u001b[0;32m    502\u001b[0m     \u001b[1;32mfinally\u001b[0m\u001b[1;33m:\u001b[0m\u001b[1;33m\u001b[0m\u001b[1;33m\u001b[0m\u001b[0m\n\u001b[0;32m    503\u001b[0m         \u001b[0mtimeout_handle\u001b[0m\u001b[1;33m.\u001b[0m\u001b[0mcancel\u001b[0m\u001b[1;33m(\u001b[0m\u001b[1;33m)\u001b[0m\u001b[1;33m\u001b[0m\u001b[1;33m\u001b[0m\u001b[0m\n",
      "\u001b[1;31mTimeoutError\u001b[0m: "
     ]
    }
   ],
   "source": [
    "import asyncio\n",
    "\n",
    "def new_data(sensor_data):\n",
    "    # Data needs to be a dictionary containing all my items\n",
    "    print(f\"Received: {sensor_data}\")\n",
    "\n",
    "pb = PlantBuddy()\n",
    "await pb.connect()\n",
    "pb.install_callback(new_data)\n",
    "await pb.start_listening()\n",
    "await asyncio.sleep(10.0)\n",
    "await pb.stop_listening()\n"
   ]
  }
 ]
}